{
 "cells": [
  {
   "cell_type": "markdown",
   "id": "6d7c787c",
   "metadata": {},
   "source": [
    "# Data Preprocessing"
   ]
  },
  {
   "cell_type": "code",
   "execution_count": 1,
   "id": "523fdb02",
   "metadata": {
    "ExecuteTime": {
     "end_time": "2025-10-25T06:51:13.293274600Z",
     "start_time": "2025-10-25T06:51:13.285575700Z"
    }
   },
   "outputs": [],
   "source": [
    "import pandas as pd\n",
    "import numpy as np\n",
    "import ast"
   ]
  },
  {
   "cell_type": "markdown",
   "id": "37266668",
   "metadata": {},
   "source": [
    "## Loading Data"
   ]
  },
  {
   "cell_type": "code",
   "execution_count": 2,
   "id": "87b0eef2",
   "metadata": {
    "ExecuteTime": {
     "end_time": "2025-10-25T06:51:16.590095400Z",
     "start_time": "2025-10-25T06:51:16.510918Z"
    }
   },
   "outputs": [],
   "source": [
    "# If you are using the automated dataset (usually with lot's of frame captured)\n",
    "df = pd.read_csv(\"../data/hand_landmarks_dataset.csv\")"
   ]
  },
  {
   "cell_type": "code",
   "execution_count": 3,
   "id": "0e1f71fb",
   "metadata": {
    "ExecuteTime": {
     "end_time": "2025-10-25T06:51:17.550304700Z",
     "start_time": "2025-10-25T06:51:17.515582Z"
    }
   },
   "outputs": [],
   "source": [
    "# If you are using the manual dataset (small number of frames captured)\n",
    "# df = pd.read_csv(\"../data/hand_landmarks_dataset_manual.csv\")"
   ]
  },
  {
   "cell_type": "code",
   "execution_count": 4,
   "id": "d3dfb93e",
   "metadata": {
    "ExecuteTime": {
     "end_time": "2025-10-25T06:51:18.287906900Z",
     "start_time": "2025-10-25T06:51:18.214979700Z"
    }
   },
   "outputs": [
    {
     "data": {
      "text/plain": "            x0        y0        x1        y1        x2        y2        x3  \\\n0     0.112744  1.002886  0.139458  0.924262  0.179153  0.842563  0.196472   \n1     0.117105  0.978692  0.130759  0.909880  0.171385  0.823776  0.193299   \n2     0.123632  0.910718  0.143369  0.821527  0.185051  0.732386  0.210989   \n3     0.139660  0.873068  0.160446  0.782714  0.201882  0.692249  0.222892   \n4     0.146467  0.846866  0.167593  0.756787  0.206880  0.664376  0.225695   \n...        ...       ...       ...       ...       ...       ...       ...   \n2863  0.398795  0.715189  0.342019  0.689019  0.291966  0.711174  0.260679   \n2864  0.397781  0.714078  0.340224  0.687992  0.290015  0.710467  0.261254   \n2865  0.398220  0.712826  0.339487  0.686605  0.289583  0.708566  0.260327   \n2866  0.402291  0.713850  0.343470  0.686734  0.292650  0.708653  0.262577   \n2867  0.399385  0.711127  0.340330  0.681297  0.288742  0.703894  0.258392   \n\n            y3        x4        y4  ...       y16       x17       y17  \\\n0     0.773636  0.183660  0.711905  ...  0.982547  0.186452  0.992788   \n1     0.752703  0.188956  0.691872  ...  0.963713  0.208927  0.985687   \n2     0.667876  0.210934  0.615956  ...  0.874301  0.254248  0.924860   \n3     0.619703  0.212347  0.558886  ...  0.853130  0.270262  0.889033   \n4     0.590964  0.215911  0.529350  ...  0.828326  0.277677  0.863058   \n...        ...       ...       ...  ...       ...       ...       ...   \n2863  0.746571  0.227816  0.771230  ...  0.891790  0.429478  0.796487   \n2864  0.746361  0.228428  0.769690  ...  0.890767  0.431862  0.796274   \n2865  0.744253  0.228137  0.767532  ...  0.891343  0.431967  0.796463   \n2866  0.744574  0.228841  0.767063  ...  0.891870  0.433264  0.800198   \n2867  0.741201  0.224485  0.766282  ...  0.899403  0.428353  0.804868   \n\n           x18       y18       x19       y19       x20       y20     label  \n0     0.242192  1.001988  0.257459  1.010547  0.262986  1.011944  Thumb_Up  \n1     0.266728  0.995892  0.250792  1.010948  0.227805  1.015338  Thumb_Up  \n2     0.307976  0.924109  0.289740  0.929391  0.265845  0.926463  Thumb_Up  \n3     0.323575  0.891329  0.301898  0.901422  0.276269  0.902476  Thumb_Up  \n4     0.333720  0.865085  0.313120  0.875243  0.287548  0.875253  Thumb_Up  \n...        ...       ...       ...       ...       ...       ...       ...  \n2863  0.431496  0.841918  0.420554  0.860515  0.405741  0.861701       you  \n2864  0.435465  0.839924  0.425243  0.860321  0.409433  0.862526       you  \n2865  0.435802  0.842501  0.426388  0.862676  0.411957  0.863276       you  \n2866  0.435661  0.845247  0.426095  0.863592  0.412277  0.862907       you  \n2867  0.430905  0.851124  0.422701  0.868627  0.411142  0.867513       you  \n\n[2868 rows x 43 columns]",
      "text/html": "<div>\n<style scoped>\n    .dataframe tbody tr th:only-of-type {\n        vertical-align: middle;\n    }\n\n    .dataframe tbody tr th {\n        vertical-align: top;\n    }\n\n    .dataframe thead th {\n        text-align: right;\n    }\n</style>\n<table border=\"1\" class=\"dataframe\">\n  <thead>\n    <tr style=\"text-align: right;\">\n      <th></th>\n      <th>x0</th>\n      <th>y0</th>\n      <th>x1</th>\n      <th>y1</th>\n      <th>x2</th>\n      <th>y2</th>\n      <th>x3</th>\n      <th>y3</th>\n      <th>x4</th>\n      <th>y4</th>\n      <th>...</th>\n      <th>y16</th>\n      <th>x17</th>\n      <th>y17</th>\n      <th>x18</th>\n      <th>y18</th>\n      <th>x19</th>\n      <th>y19</th>\n      <th>x20</th>\n      <th>y20</th>\n      <th>label</th>\n    </tr>\n  </thead>\n  <tbody>\n    <tr>\n      <th>0</th>\n      <td>0.112744</td>\n      <td>1.002886</td>\n      <td>0.139458</td>\n      <td>0.924262</td>\n      <td>0.179153</td>\n      <td>0.842563</td>\n      <td>0.196472</td>\n      <td>0.773636</td>\n      <td>0.183660</td>\n      <td>0.711905</td>\n      <td>...</td>\n      <td>0.982547</td>\n      <td>0.186452</td>\n      <td>0.992788</td>\n      <td>0.242192</td>\n      <td>1.001988</td>\n      <td>0.257459</td>\n      <td>1.010547</td>\n      <td>0.262986</td>\n      <td>1.011944</td>\n      <td>Thumb_Up</td>\n    </tr>\n    <tr>\n      <th>1</th>\n      <td>0.117105</td>\n      <td>0.978692</td>\n      <td>0.130759</td>\n      <td>0.909880</td>\n      <td>0.171385</td>\n      <td>0.823776</td>\n      <td>0.193299</td>\n      <td>0.752703</td>\n      <td>0.188956</td>\n      <td>0.691872</td>\n      <td>...</td>\n      <td>0.963713</td>\n      <td>0.208927</td>\n      <td>0.985687</td>\n      <td>0.266728</td>\n      <td>0.995892</td>\n      <td>0.250792</td>\n      <td>1.010948</td>\n      <td>0.227805</td>\n      <td>1.015338</td>\n      <td>Thumb_Up</td>\n    </tr>\n    <tr>\n      <th>2</th>\n      <td>0.123632</td>\n      <td>0.910718</td>\n      <td>0.143369</td>\n      <td>0.821527</td>\n      <td>0.185051</td>\n      <td>0.732386</td>\n      <td>0.210989</td>\n      <td>0.667876</td>\n      <td>0.210934</td>\n      <td>0.615956</td>\n      <td>...</td>\n      <td>0.874301</td>\n      <td>0.254248</td>\n      <td>0.924860</td>\n      <td>0.307976</td>\n      <td>0.924109</td>\n      <td>0.289740</td>\n      <td>0.929391</td>\n      <td>0.265845</td>\n      <td>0.926463</td>\n      <td>Thumb_Up</td>\n    </tr>\n    <tr>\n      <th>3</th>\n      <td>0.139660</td>\n      <td>0.873068</td>\n      <td>0.160446</td>\n      <td>0.782714</td>\n      <td>0.201882</td>\n      <td>0.692249</td>\n      <td>0.222892</td>\n      <td>0.619703</td>\n      <td>0.212347</td>\n      <td>0.558886</td>\n      <td>...</td>\n      <td>0.853130</td>\n      <td>0.270262</td>\n      <td>0.889033</td>\n      <td>0.323575</td>\n      <td>0.891329</td>\n      <td>0.301898</td>\n      <td>0.901422</td>\n      <td>0.276269</td>\n      <td>0.902476</td>\n      <td>Thumb_Up</td>\n    </tr>\n    <tr>\n      <th>4</th>\n      <td>0.146467</td>\n      <td>0.846866</td>\n      <td>0.167593</td>\n      <td>0.756787</td>\n      <td>0.206880</td>\n      <td>0.664376</td>\n      <td>0.225695</td>\n      <td>0.590964</td>\n      <td>0.215911</td>\n      <td>0.529350</td>\n      <td>...</td>\n      <td>0.828326</td>\n      <td>0.277677</td>\n      <td>0.863058</td>\n      <td>0.333720</td>\n      <td>0.865085</td>\n      <td>0.313120</td>\n      <td>0.875243</td>\n      <td>0.287548</td>\n      <td>0.875253</td>\n      <td>Thumb_Up</td>\n    </tr>\n    <tr>\n      <th>...</th>\n      <td>...</td>\n      <td>...</td>\n      <td>...</td>\n      <td>...</td>\n      <td>...</td>\n      <td>...</td>\n      <td>...</td>\n      <td>...</td>\n      <td>...</td>\n      <td>...</td>\n      <td>...</td>\n      <td>...</td>\n      <td>...</td>\n      <td>...</td>\n      <td>...</td>\n      <td>...</td>\n      <td>...</td>\n      <td>...</td>\n      <td>...</td>\n      <td>...</td>\n      <td>...</td>\n    </tr>\n    <tr>\n      <th>2863</th>\n      <td>0.398795</td>\n      <td>0.715189</td>\n      <td>0.342019</td>\n      <td>0.689019</td>\n      <td>0.291966</td>\n      <td>0.711174</td>\n      <td>0.260679</td>\n      <td>0.746571</td>\n      <td>0.227816</td>\n      <td>0.771230</td>\n      <td>...</td>\n      <td>0.891790</td>\n      <td>0.429478</td>\n      <td>0.796487</td>\n      <td>0.431496</td>\n      <td>0.841918</td>\n      <td>0.420554</td>\n      <td>0.860515</td>\n      <td>0.405741</td>\n      <td>0.861701</td>\n      <td>you</td>\n    </tr>\n    <tr>\n      <th>2864</th>\n      <td>0.397781</td>\n      <td>0.714078</td>\n      <td>0.340224</td>\n      <td>0.687992</td>\n      <td>0.290015</td>\n      <td>0.710467</td>\n      <td>0.261254</td>\n      <td>0.746361</td>\n      <td>0.228428</td>\n      <td>0.769690</td>\n      <td>...</td>\n      <td>0.890767</td>\n      <td>0.431862</td>\n      <td>0.796274</td>\n      <td>0.435465</td>\n      <td>0.839924</td>\n      <td>0.425243</td>\n      <td>0.860321</td>\n      <td>0.409433</td>\n      <td>0.862526</td>\n      <td>you</td>\n    </tr>\n    <tr>\n      <th>2865</th>\n      <td>0.398220</td>\n      <td>0.712826</td>\n      <td>0.339487</td>\n      <td>0.686605</td>\n      <td>0.289583</td>\n      <td>0.708566</td>\n      <td>0.260327</td>\n      <td>0.744253</td>\n      <td>0.228137</td>\n      <td>0.767532</td>\n      <td>...</td>\n      <td>0.891343</td>\n      <td>0.431967</td>\n      <td>0.796463</td>\n      <td>0.435802</td>\n      <td>0.842501</td>\n      <td>0.426388</td>\n      <td>0.862676</td>\n      <td>0.411957</td>\n      <td>0.863276</td>\n      <td>you</td>\n    </tr>\n    <tr>\n      <th>2866</th>\n      <td>0.402291</td>\n      <td>0.713850</td>\n      <td>0.343470</td>\n      <td>0.686734</td>\n      <td>0.292650</td>\n      <td>0.708653</td>\n      <td>0.262577</td>\n      <td>0.744574</td>\n      <td>0.228841</td>\n      <td>0.767063</td>\n      <td>...</td>\n      <td>0.891870</td>\n      <td>0.433264</td>\n      <td>0.800198</td>\n      <td>0.435661</td>\n      <td>0.845247</td>\n      <td>0.426095</td>\n      <td>0.863592</td>\n      <td>0.412277</td>\n      <td>0.862907</td>\n      <td>you</td>\n    </tr>\n    <tr>\n      <th>2867</th>\n      <td>0.399385</td>\n      <td>0.711127</td>\n      <td>0.340330</td>\n      <td>0.681297</td>\n      <td>0.288742</td>\n      <td>0.703894</td>\n      <td>0.258392</td>\n      <td>0.741201</td>\n      <td>0.224485</td>\n      <td>0.766282</td>\n      <td>...</td>\n      <td>0.899403</td>\n      <td>0.428353</td>\n      <td>0.804868</td>\n      <td>0.430905</td>\n      <td>0.851124</td>\n      <td>0.422701</td>\n      <td>0.868627</td>\n      <td>0.411142</td>\n      <td>0.867513</td>\n      <td>you</td>\n    </tr>\n  </tbody>\n</table>\n<p>2868 rows × 43 columns</p>\n</div>"
     },
     "execution_count": 4,
     "metadata": {},
     "output_type": "execute_result"
    }
   ],
   "source": [
    "df"
   ]
  },
  {
   "cell_type": "markdown",
   "id": "661ebf8f",
   "metadata": {},
   "source": [
    "## Data Normalization"
   ]
  },
  {
   "cell_type": "code",
   "execution_count": 5,
   "id": "acf95788",
   "metadata": {
    "ExecuteTime": {
     "end_time": "2025-10-25T06:51:46.766264100Z",
     "start_time": "2025-10-25T06:51:22.185158100Z"
    }
   },
   "outputs": [],
   "source": [
    "# Normalize relative to wrist position (x0, y0) AND scale normalization\n",
    "normalized_df = df.copy()\n",
    "\n",
    "for idx, row in df.iterrows():\n",
    "    wrist_x = row[\"x0\"]  # Wrist x coordinate\n",
    "    wrist_y = row[\"y0\"]  # Wrist y coordinate\n",
    "\n",
    "    # Extract all landmark coordinates\n",
    "    landmarks = []\n",
    "    for i in range(21):  # Assuming 21 landmarks (0-20)\n",
    "        x_col = f\"x{i}\"\n",
    "        y_col = f\"y{i}\"\n",
    "        if x_col in df.columns and y_col in df.columns:\n",
    "            landmarks.append([row[x_col], row[y_col]])\n",
    "\n",
    "    landmarks = np.array(landmarks)\n",
    "\n",
    "    # Normalize relative to wrist\n",
    "    landmarks_normalized = landmarks - landmarks[0]  # Subtract wrist coordinates\n",
    "\n",
    "    # Scale normalization - normalize to unit scale\n",
    "    # Calculate the maximum distance from wrist to any landmark\n",
    "    distances = np.linalg.norm(landmarks_normalized, axis=1)\n",
    "    max_distance = np.max(distances)\n",
    "\n",
    "    # Avoid division by zero\n",
    "    if max_distance > 0:\n",
    "        scale_factor = 1.0 / max_distance\n",
    "    else:\n",
    "        scale_factor = 1.0\n",
    "\n",
    "    # Apply scale normalization\n",
    "    landmarks_scaled = landmarks_normalized * scale_factor\n",
    "\n",
    "    # Update the dataframe\n",
    "    for i in range(21):\n",
    "        x_col = f\"x{i}\"\n",
    "        y_col = f\"y{i}\"\n",
    "        if x_col in df.columns and y_col in df.columns:\n",
    "            normalized_df.loc[idx, x_col] = landmarks_scaled[i, 0]\n",
    "            normalized_df.loc[idx, y_col] = landmarks_scaled[i, 1]"
   ]
  },
  {
   "cell_type": "markdown",
   "id": "76f867f0",
   "metadata": {},
   "source": [
    "## Saving Normalized Data"
   ]
  },
  {
   "cell_type": "code",
   "execution_count": 6,
   "id": "b76ebce1",
   "metadata": {
    "ExecuteTime": {
     "end_time": "2025-10-25T06:51:55.907524800Z",
     "start_time": "2025-10-25T06:51:55.665477900Z"
    }
   },
   "outputs": [],
   "source": [
    "# If you are using the automated dataset\n",
    "normalized_df.to_csv(\n",
    "    \"../data/hand_landmarks_dataset_normalized_to_the_wrist.csv\", index=False\n",
    ")"
   ]
  },
  {
   "cell_type": "code",
   "execution_count": 32,
   "id": "cedc307d",
   "metadata": {
    "ExecuteTime": {
     "end_time": "2025-10-25T06:22:52.657245700Z",
     "start_time": "2025-10-25T06:22:52.647367300Z"
    }
   },
   "outputs": [],
   "source": [
    "# If you are using the manual dataset\n",
    "# normalized_df.to_csv(\n",
    "#     \"../data/hand_landmarks_dataset_normalized_to_the_wrist_manual.csv\", index=False\n",
    "# )"
   ]
  },
  {
   "cell_type": "code",
   "execution_count": null,
   "outputs": [],
   "source": [],
   "metadata": {
    "collapsed": false
   },
   "id": "cca13a81ee76e0fa"
  }
 ],
 "metadata": {
  "kernelspec": {
   "display_name": ".venv",
   "language": "python",
   "name": "python3"
  },
  "language_info": {
   "codemirror_mode": {
    "name": "ipython",
    "version": 3
   },
   "file_extension": ".py",
   "mimetype": "text/x-python",
   "name": "python",
   "nbconvert_exporter": "python",
   "pygments_lexer": "ipython3",
   "version": "3.12.9"
  }
 },
 "nbformat": 4,
 "nbformat_minor": 5
}
